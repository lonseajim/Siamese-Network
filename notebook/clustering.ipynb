{
 "cells": [
  {
   "cell_type": "code",
   "execution_count": null,
   "id": "initial_id",
   "metadata": {
    "collapsed": true
   },
   "outputs": [],
   "source": [
    "import numpy as np\n",
    "import matplotlib.pyplot as plt\n",
    "import pandas as pd\n",
    "import machine_learning as ml"
   ]
  },
  {
   "cell_type": "code",
   "outputs": [],
   "source": [
    "G_INS = ['P300', 'R300']\n",
    "G_CS = ['ABA', 'CFR', 'ECO', 'EFA', 'KOX', 'KPN', 'PMA', 'SAU', 'SHO', 'SMA']"
   ],
   "metadata": {
    "collapsed": false
   },
   "id": "ffcb85a264fa5a3c",
   "execution_count": null
  },
  {
   "cell_type": "code",
   "outputs": [],
   "source": [
    "from plot import color_pick, marker_pick\n",
    "\n",
    "def plot_2D_scatter(data: np.array, labels: np.array, fig_size=(20, 10), fig_dpi=300, fig_title=None):\n",
    "    assert len(data) == len(labels)\n",
    "    fig = plt.figure(figsize=fig_size, dpi=fig_dpi)\n",
    "    ax = fig.add_subplot(111)\n",
    "    for in_idx, ins in enumerate(G_INS):\n",
    "        for c_idx, c in enumerate(G_CS):\n",
    "            label = ins + '-' + c\n",
    "            ax.scatter(x=data[labels == label, 0], y=data[labels == label, 1], c=color_pick(c_idx),\n",
    "                       marker=marker_pick(in_idx), s=18, label=label)\n",
    "    # show legend\n",
    "    plt.legend(bbox_to_anchor=(1.01, 0), fontsize='10', loc=3, borderaxespad=0)\n",
    "    # show title\n",
    "    if fig_title is not None:\n",
    "        plt.title(fig_title)"
   ],
   "metadata": {
    "collapsed": false
   },
   "id": "508554040ff2fdfa",
   "execution_count": null
  },
  {
   "cell_type": "code",
   "outputs": [],
   "source": [
    "df = pd.read_csv('../dataset.csv', index_col=0)"
   ],
   "metadata": {
    "collapsed": false
   },
   "id": "5285636b2673177c",
   "execution_count": null
  },
  {
   "cell_type": "code",
   "outputs": [],
   "source": [
    "spectra = []\n",
    "labels = []\n",
    "for idx, row in df.iterrows():\n",
    "    data = np.loadtxt(row['data_file'], delimiter='\\t', dtype=float).T\n",
    "    spectra.append(data[1])\n",
    "    # label = row['label_name'].split('_')[0]\n",
    "    labels.append(row['label_name'].replace('_', '-'))\n",
    "spectra = np.array(spectra)\n",
    "labels = np.array(labels)"
   ],
   "metadata": {
    "collapsed": false
   },
   "id": "884bf99711b31aa7",
   "execution_count": null
  },
  {
   "cell_type": "code",
   "outputs": [],
   "source": [
    "pca = ml.do_tSNE(spectra, components=2)"
   ],
   "metadata": {
    "collapsed": false
   },
   "id": "3dfb53c6ff39dac2",
   "execution_count": null
  },
  {
   "cell_type": "code",
   "outputs": [],
   "source": [
    "plot_2D_scatter(pca, labels)\n",
    "plt.savefig('../result/tSNE_2D_cs.png', bbox_inches='tight', pad_inches=0.05, dpi=300)"
   ],
   "metadata": {
    "collapsed": false
   },
   "id": "40d09123256f4ba4",
   "execution_count": null
  }
 ],
 "metadata": {
  "kernelspec": {
   "display_name": "Python 3",
   "language": "python",
   "name": "python3"
  },
  "language_info": {
   "codemirror_mode": {
    "name": "ipython",
    "version": 2
   },
   "file_extension": ".py",
   "mimetype": "text/x-python",
   "name": "python",
   "nbconvert_exporter": "python",
   "pygments_lexer": "ipython2",
   "version": "2.7.6"
  }
 },
 "nbformat": 4,
 "nbformat_minor": 5
}
