{
 "cells": [
  {
   "cell_type": "code",
   "execution_count": null,
   "id": "initial_id",
   "metadata": {
    "collapsed": true
   },
   "outputs": [],
   "source": [
    "import pandas as pd\n",
    "import torch\n",
    "import torch.optim as optim\n",
    "from torch import nn\n",
    "\n",
    "from dataset import snn_batch\n",
    "from model.snn import SNN"
   ]
  },
  {
   "cell_type": "code",
   "execution_count": null,
   "id": "6dab5a9c",
   "metadata": {},
   "outputs": [],
   "source": [
    "cv_list = [1, 2, 3, 4, 5]"
   ]
  },
  {
   "cell_type": "code",
   "execution_count": null,
   "id": "27e17def12b6fe07",
   "metadata": {
    "collapsed": false
   },
   "outputs": [],
   "source": [
    "for cv in cv_list:\n",
    "    fsl_df = pd.read_csv('data/fsl2_cv{}_10000_2.csv'.format(cv))\n",
    "\n",
    "    backbone_list = ['transformer', 'resnet', 'lstm']\n",
    "    backbone = backbone_list[0]\n",
    "    train_index = '100_cv{}'.format(cv)\n",
    "\n",
    "    device = torch.device('cuda' if torch.cuda.is_available() else 'cpu')\n",
    "\n",
    "    model = SNN(1302, 701, input_dim=512, feature_dim=256, backbone=backbone, r_num_layers=1, t_num_layers=1,\n",
    "                l_num_layers=1)\n",
    "    model = model.to(device)\n",
    "    criteria = nn.BCELoss()\n",
    "    optimizer = optim.Adam(model.parameters(), lr=1e-4, betas=(0.5, 0.999))\n",
    "\n",
    "    epochs = 10000\n",
    "    batch_size = 1024\n",
    "    early_stop = 2000\n",
    "    min_loss = 99\n",
    "    best_epoch = 0\n",
    "\n",
    "    model.train()\n",
    "    for epoch in range(epochs):\n",
    "        sample1, sample2, labels = snn_batch(fsl_df, batch_size=batch_size, pos_neg_ratio=0.5)\n",
    "        sample1, sample2, labels = sample1.to(device), sample2.to(device), labels.to(device)\n",
    "        outputs = model(sample1.float(), sample2.float())\n",
    "        loss = criteria(outputs, labels)\n",
    "        loss.backward()\n",
    "        optimizer.step()\n",
    "        optimizer.zero_grad()\n",
    "\n",
    "        if loss.item() < min_loss:\n",
    "            min_loss = loss.item()\n",
    "            best_epoch = epoch\n",
    "            torch.save(model.state_dict(), 'checkpoints/fsl2_{}_{}_1024_2.pth'.format(backbone, train_index))\n",
    "\n",
    "        if epoch - best_epoch > early_stop:\n",
    "            break\n",
    "\n",
    "        if epoch % 5 == 0:\n",
    "            print('cv: {}, epoch: {}/{}, loss: {:.8f}'.format(cv, epoch, epochs, loss))\n",
    "            print('cv: {}, Best epoch: {}, Min loss: {:.8f}'.format(cv, best_epoch, min_loss))\n",
    "\n",
    "        if loss.item() < 0.001:\n",
    "            print('cv: {}, epoch: {}/{}, loss: {:.8f}'.format(cv, epoch, epochs, loss))\n",
    "            print('cv: {}, Best epoch: {}, Min loss: {:.8f}'.format(cv, best_epoch, min_loss))\n",
    "            break\n",
    "\n",
    "    print(\"Finish Training.\")"
   ]
  }
 ],
 "metadata": {
  "kernelspec": {
   "display_name": "Python 3",
   "language": "python",
   "name": "python3"
  },
  "language_info": {
   "codemirror_mode": {
    "name": "ipython",
    "version": 3
   },
   "file_extension": ".py",
   "mimetype": "text/x-python",
   "name": "python",
   "nbconvert_exporter": "python",
   "pygments_lexer": "ipython3",
   "version": "3.10.13"
  }
 },
 "nbformat": 4,
 "nbformat_minor": 5
}
