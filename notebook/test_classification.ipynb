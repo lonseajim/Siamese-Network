{
 "cells": [
  {
   "cell_type": "code",
   "outputs": [],
   "source": [
    "import pandas as pd\n",
    "from torch.utils.data import DataLoader\n",
    "\n",
    "from dataset import CFDataset\n",
    "from model import lstm, resnet, transformer\n",
    "import torch\n",
    "import deep_learning as dl\n",
    "\n",
    "device = torch.device('cuda' if torch.cuda.is_available() else 'cpu')"
   ],
   "metadata": {
    "collapsed": false
   },
   "id": "340b7e989133e88b"
  },
  {
   "cell_type": "code",
   "outputs": [],
   "source": [
    "p300_df = pd.read_csv('data/P300_1200g_norm.csv', index_col=0)\n",
    "r300_df = pd.read_csv('data/R300_1200g_norm.csv', index_col=0)\n",
    "\n",
    "p300_file_list = p300_df['data_file'].to_numpy()\n",
    "p300_label_list = p300_df['label'].to_numpy()\n",
    "\n",
    "r300_file_list = r300_df['data_file'].to_numpy()\n",
    "r300_label_list = r300_df['label'].to_numpy()"
   ],
   "metadata": {
    "collapsed": false
   },
   "id": "5cf1b32c0adfa6a7"
  },
  {
   "cell_type": "code",
   "outputs": [],
   "source": [
    "p300_test_ds = CFDataset(p300_file_list, p300_label_list)\n",
    "p300_test_dataloader = DataLoader(p300_test_ds, batch_size=256)\n",
    "r300_test_ds = CFDataset(r300_file_list, r300_label_list)\n",
    "r300_test_dataloader = DataLoader(r300_test_ds, batch_size=256)"
   ],
   "metadata": {
    "collapsed": false
   },
   "id": "789706a40e5a4267"
  },
  {
   "cell_type": "code",
   "execution_count": null,
   "id": "initial_id",
   "metadata": {
    "collapsed": true
   },
   "outputs": [],
   "source": [
    "train_names = ['transformer_r300', 'transformer_p300', 'resnet_p300', 'resnet_r300', 'lstm_r300', 'lstm_p300']\n",
    "\n",
    "for name in train_names:\n",
    "    if 'r300' in name:\n",
    "        test_dataloader = p300_test_dataloader\n",
    "        input_size = p300_test_ds.input_size()\n",
    "    else:\n",
    "        test_dataloader = r300_test_dataloader\n",
    "        input_size = r300_test_ds.input_size()\n",
    "\n",
    "    if name.startswith('lstm'):\n",
    "        print('lstm model')\n",
    "        model = lstm.LSTM(input_size=input_size, hidden_size=100, num_layers=2, out_size=10)\n",
    "    elif name.startswith('resnet'):\n",
    "        print('resnet model')\n",
    "        model = resnet.ResNet(hidden_sizes=[100] * 6, num_blocks=[2] * 6, input_dim=input_size, in_channels=64, n_classes=10)\n",
    "    else:\n",
    "        print('transformer model')\n",
    "        model = transformer.TransformerModel(input_size=input_size, hidden_dim=128, num_classes=10, num_layers=3)\n",
    "\n",
    "    model.to(device)\n",
    "\n",
    "    for i in range(5):\n",
    "        true_list, predicted_list = dl.test(model, model_path='checkpoints/{}_cv{}.pth'.format(name, i + 1),\n",
    "                                            test_dataloader=test_dataloader)\n",
    "        res = [item1 == item2 for item1, item2 in zip(true_list, predicted_list)]\n",
    "        acc = res.count(True) / len(true_list)\n",
    "        print('model: {}, cv: {}, acc:{}'.format(name, i + 1, acc))"
   ]
  }
 ],
 "metadata": {
  "kernelspec": {
   "display_name": "Python 3",
   "language": "python",
   "name": "python3"
  },
  "language_info": {
   "codemirror_mode": {
    "name": "ipython",
    "version": 2
   },
   "file_extension": ".py",
   "mimetype": "text/x-python",
   "name": "python",
   "nbconvert_exporter": "python",
   "pygments_lexer": "ipython2",
   "version": "2.7.6"
  }
 },
 "nbformat": 4,
 "nbformat_minor": 5
}
