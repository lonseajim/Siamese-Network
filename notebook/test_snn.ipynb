{
 "cells": [
  {
   "cell_type": "code",
   "execution_count": null,
   "id": "14bdae0e7e19dab0",
   "metadata": {
    "collapsed": false
   },
   "outputs": [],
   "source": [
    "import torch\n",
    "import numpy as np\n",
    "from model.snn import SNN\n",
    "from sklearn.model_selection import StratifiedKFold\n",
    "import pandas as pd"
   ]
  },
  {
   "cell_type": "code",
   "execution_count": null,
   "id": "c808ce87c459872e",
   "metadata": {
    "collapsed": false
   },
   "outputs": [],
   "source": [
    "cv_list = [1, 2, 3, 4, 5]"
   ]
  },
  {
   "cell_type": "code",
   "execution_count": null,
   "id": "c15cc99f55aecdd8",
   "metadata": {
    "collapsed": false
   },
   "outputs": [],
   "source": [
    "for cv in cv_list:\n",
    "    backbone_list = ['transformer', 'resnet', 'lstm']\n",
    "    backbone = backbone_list[1]\n",
    "    train_index = '100_cv{}'.format(cv)\n",
    "    # 加载模型\n",
    "    device = torch.device('cpu')\n",
    "    model = SNN(701, 701, input_dim=512, feature_dim=256, backbone=backbone, r_layer_num=1, t_num_layers=1,\n",
    "                l_num_layers=1)\n",
    "    model = model.to(device)\n",
    "    model_path = 'fsl_{}_{}_1024.pth'.format(backbone, train_index)\n",
    "    model.load_state_dict(torch.load(model_path))\n",
    "    model.eval()\n",
    "\n",
    "    support_df = pd.read_csv('few_P300_cv{}_100.csv'.format(cv))\n",
    "    support_file_list = support_df['data_file'].to_numpy()\n",
    "    support_label_list = support_df['label'].to_numpy()\n",
    "    # 数据拆分器\n",
    "    support_data_df = None\n",
    "    skf = StratifiedKFold(n_splits=10, shuffle=True, random_state=42)\n",
    "    for train_index, test_index in skf.split(support_file_list, support_label_list):\n",
    "        support_data_df = support_df.iloc[test_index]\n",
    "        break\n",
    "\n",
    "    query_data_df = pd.read_csv('test_R300_cv{}_3900.csv'.format(cv))\n",
    "\n",
    "    correct_count = 0\n",
    "    for q_i, query_data in query_data_df.iterrows():\n",
    "        # start_time = time.time()\n",
    "\n",
    "        q_data = np.loadtxt(query_data['data_file'], delimiter='\\t', dtype=float).T\n",
    "        q_data_y = q_data[1]\n",
    "        q_data_y = np.expand_dims(q_data_y, axis=0)\n",
    "        q_data_y = np.expand_dims(q_data_y, axis=0)\n",
    "        q_data_y = torch.from_numpy(q_data_y).float()\n",
    "\n",
    "        true_label = int(query_data['label'])\n",
    "\n",
    "        sim_list, support_label_list = [], []\n",
    "        for s_i, support_data in support_data_df.iterrows():\n",
    "            s_data = np.loadtxt(support_data['data_file'], delimiter='\\t', dtype=float).T\n",
    "            s_data_y = s_data[1]\n",
    "            s_data_y = np.expand_dims(s_data_y, axis=0)\n",
    "            s_data_y = np.expand_dims(s_data_y, axis=0)\n",
    "            s_data_y = torch.from_numpy(s_data_y).float()\n",
    "\n",
    "            support_label = int(support_data['label'])\n",
    "            support_label_list.append(support_label)\n",
    "\n",
    "            output = model(s_data_y.to(device), q_data_y.to(device))\n",
    "            sim_list.append(output.item())\n",
    "\n",
    "        pred_label_index = sim_list.index(max(sim_list))\n",
    "        # print(sim_list)\n",
    "\n",
    "        if true_label == support_label_list[pred_label_index]:\n",
    "            correct_count += 1\n",
    "        print(true_label, support_label_list[pred_label_index])\n",
    "        # end_time = time.time()\n",
    "        # print(\"耗时: {:.6f}秒\".format(end_time - start_time))\n",
    "\n",
    "    print('cv:{}, acc:{:.8f}'.format(cv, correct_count / len(query_data_df)))\n",
    "        "
   ]
  }
 ],
 "metadata": {
  "kernelspec": {
   "display_name": "Python 3",
   "language": "python",
   "name": "python3"
  },
  "language_info": {
   "codemirror_mode": {
    "name": "ipython",
    "version": 3
   },
   "file_extension": ".py",
   "mimetype": "text/x-python",
   "name": "python",
   "nbconvert_exporter": "python",
   "pygments_lexer": "ipython3",
   "version": "3.10.13"
  }
 },
 "nbformat": 4,
 "nbformat_minor": 5
}
