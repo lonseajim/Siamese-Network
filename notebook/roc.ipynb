{
 "cells": [
  {
   "cell_type": "code",
   "execution_count": null,
   "id": "initial_id",
   "metadata": {
    "collapsed": true
   },
   "outputs": [],
   "source": [
    "import numpy as np\n",
    "import matplotlib.pyplot as plt\n",
    "from sklearn.metrics import roc_curve, auc\n",
    "from sklearn.preprocessing import label_binarize\n",
    "from itertools import cycle\n",
    "import pandas as pd\n",
    "from plot import color_pick\n",
    "\n",
    "np.random.seed(0)\n",
    "# labels\n",
    "n_classes = 10  \n",
    "df = pd.read_csv('../result/P300_600-R300_1200.csv')\n",
    "y_true = df['true_list'].to_numpy()\n",
    "y_scores = df['predicted_list'].to_numpy()\n",
    "\n",
    "# Binarization of true and predicted labels\n",
    "y_true_bin = label_binarize(y_true, classes=range(n_classes))\n",
    "y_scores_bin = label_binarize(y_scores, classes=range(n_classes))\n",
    "\n",
    "# Calculate true and false positive rates for each class\n",
    "fpr = dict()\n",
    "tpr = dict()\n",
    "roc_auc = dict()\n",
    "for i in range(n_classes):\n",
    "    fpr[i], tpr[i], _ = roc_curve(y_true_bin[:, i], y_scores_bin[:, i])\n",
    "    roc_auc[i] = auc(fpr[i], tpr[i])\n",
    "\n",
    "# Calculate micro-average of true and false positive rates\n",
    "fpr[\"micro\"], tpr[\"micro\"], _ = roc_curve(y_true_bin.ravel(), y_scores_bin.ravel())\n",
    "roc_auc[\"micro\"] = auc(fpr[\"micro\"], tpr[\"micro\"])\n",
    "\n",
    "# Calculate macro-average of true and false positive rates\n",
    "all_fpr = np.unique(np.concatenate([fpr[i] for i in range(n_classes)]))\n",
    "mean_tpr = np.zeros_like(all_fpr)\n",
    "for i in range(n_classes):\n",
    "    mean_tpr += np.interp(all_fpr, fpr[i], tpr[i])\n",
    "mean_tpr /= n_classes\n",
    "fpr[\"macro\"] = all_fpr\n",
    "tpr[\"macro\"] = mean_tpr\n",
    "roc_auc[\"macro\"] = auc(fpr[\"macro\"], tpr[\"macro\"])\n",
    "\n",
    "class_list = ['ABA', 'CFR', 'ECO', 'EFA', 'KOX', 'KPN', 'PMA', 'SAU', 'SHO', 'SMA']\n",
    "\n",
    "# plot ROC\n",
    "plt.figure(figsize=(10, 8))\n",
    "plt.plot(fpr[\"micro\"], tpr[\"micro\"], label='micro-average ROC curve (area = {0:0.2f})'.format(roc_auc[\"micro\"]), color='deeppink', linestyle=':', linewidth=2)\n",
    "plt.plot(fpr[\"macro\"], tpr[\"macro\"], label='macro-average ROC curve (area = {0:0.2f})'.format(roc_auc[\"macro\"]), color='navy', linestyle=':', linewidth=2)\n",
    "colors = cycle(['aqua', 'darkorange', 'cornflowerblue', 'green', 'red', 'purple', 'yellow', 'brown', 'pink', 'gray'])\n",
    "for i, c in enumerate(class_list):\n",
    "    plt.plot(fpr[i], tpr[i], color=color_pick(i), lw=2, label='ROC curve of {0} (AUC = {1:0.2f})'.format(c, roc_auc[i]))\n",
    "plt.plot([0, 1], [0, 1], 'k--', lw=2)\n",
    "plt.xlim([0.0, 1.0])\n",
    "plt.ylim([0.0, 1.03])\n",
    "plt.xlabel('False Positive Rate')\n",
    "plt.ylabel('True Positive Rate')\n",
    "plt.title('ROC: Multi-class')\n",
    "plt.legend(loc=\"lower right\")\n",
    "plt.savefig('P300_600-R300_1200.png', bbox_inches='tight', pad_inches=0.1, dpi=300)\n",
    "plt.show()"
   ]
  }
 ],
 "metadata": {
  "kernelspec": {
   "display_name": "Python 3",
   "language": "python",
   "name": "python3"
  },
  "language_info": {
   "codemirror_mode": {
    "name": "ipython",
    "version": 2
   },
   "file_extension": ".py",
   "mimetype": "text/x-python",
   "name": "python",
   "nbconvert_exporter": "python",
   "pygments_lexer": "ipython2",
   "version": "2.7.6"
  }
 },
 "nbformat": 4,
 "nbformat_minor": 5
}
