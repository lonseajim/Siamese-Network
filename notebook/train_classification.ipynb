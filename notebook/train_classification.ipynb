{
 "cells": [
  {
   "cell_type": "code",
   "execution_count": null,
   "id": "e90bc0d36d843a27",
   "metadata": {
    "collapsed": false
   },
   "outputs": [],
   "source": [
    "from sklearn.model_selection import StratifiedKFold\n",
    "import pandas as pd\n",
    "from torch.utils.data import DataLoader\n",
    "\n",
    "from dataset import CFDataset\n",
    "from model import lstm, resnet, transformer\n",
    "import torch\n",
    "import deep_learning as dl\n",
    "\n",
    "device = torch.device('cuda' if torch.cuda.is_available() else 'cpu')"
   ]
  },
  {
   "cell_type": "markdown",
   "id": "b67733718ededf1e",
   "metadata": {
    "collapsed": false
   },
   "source": "## Load Data"
  },
  {
   "cell_type": "code",
   "execution_count": null,
   "id": "724b48190da5be29",
   "metadata": {
    "collapsed": false
   },
   "outputs": [],
   "source": [
    "p300_df = pd.read_csv('../data/P300_1200g_norm.csv', index_col=0)\n",
    "r300_df = pd.read_csv('../data/R300_1200g_norm.csv', index_col=0)\n",
    "\n",
    "p300_file_list = p300_df['data_file'].to_numpy()\n",
    "p300_label_list = p300_df['label'].to_numpy()\n",
    "\n",
    "r300_file_list = r300_df['data_file'].to_numpy()\n",
    "r300_label_list = r300_df['label'].to_numpy()"
   ]
  },
  {
   "cell_type": "code",
   "execution_count": null,
   "id": "609bae5df00cd4de",
   "metadata": {
    "collapsed": false
   },
   "outputs": [],
   "source": [
    "# split dataset\n",
    "splits = 5\n",
    "skf = StratifiedKFold(n_splits=splits, shuffle=True, random_state=42)"
   ]
  },
  {
   "cell_type": "markdown",
   "id": "99f00b0106f22c39",
   "metadata": {
    "collapsed": false
   },
   "source": "## Training"
  },
  {
   "cell_type": "code",
   "execution_count": null,
   "id": "d34c5fd8675bca07",
   "metadata": {
    "collapsed": false
   },
   "outputs": [],
   "source": [
    "bs = 512\n",
    "lr = 1e-4\n",
    "epochs = 1000\n",
    "train_name = 'lstm_p300' # transformer_p300 resnet_p300 resnet_r300 lstm_r300 lstm_p300\n",
    "\n",
    "for cv_idx, (train_index, test_index) in enumerate(skf.split(p300_file_list, p300_label_list)):\n",
    "    print('Cross Validation index: {}/{}'.format(cv_idx + 1, splits))\n",
    "\n",
    "    train_ds = CFDataset(p300_file_list[train_index], p300_label_list[train_index])\n",
    "    val_ds = CFDataset(p300_file_list[test_index], p300_label_list[test_index])\n",
    "\n",
    "    train_dataloader = DataLoader(train_ds, batch_size=bs, shuffle=True)\n",
    "    val_dataloader = DataLoader(val_ds, batch_size=bs)\n",
    "\n",
    "    input_size = train_ds.input_size()\n",
    "    if train_name.startswith('lstm'):\n",
    "        print('lstm model')\n",
    "        model = lstm.LSTM(input_size=input_size, hidden_size=100, num_layers=2, out_size=10)\n",
    "    elif train_name.startswith('resnet'):\n",
    "        print('resnet model')\n",
    "        model = resnet.ResNet(hidden_sizes=[100] * 6, num_blocks=[2] * 6, input_dim=input_size, in_channels=64, n_classes=10)\n",
    "    else:\n",
    "        print('transformer model')\n",
    "        model = transformer.TransformerModel(input_size=input_size, hidden_dim=128, num_classes=10, num_layers=3)\n",
    "    model.to(device)\n",
    "\n",
    "    criterion = torch.nn.CrossEntropyLoss()\n",
    "    optimizer = torch.optim.Adam(model.parameters(), lr=lr, betas=(0.5, 0.999))\n",
    "\n",
    "    best_model_path = 'checkpoints/{}_cv{}.pth'.format(train_name, cv_idx + 1)\n",
    "    dl.train(train_dataloader, val_dataloader, model, criterion, optimizer, scheduler=None,\n",
    "             num_epochs=epochs, early_stop_epochs=epochs / 5, model_path=best_model_path)\n",
    "    "
   ]
  },
  {
   "cell_type": "markdown",
   "id": "4259b9ec0705d8e",
   "metadata": {
    "collapsed": false
   },
   "source": "## Test on the other dataset"
  },
  {
   "cell_type": "code",
   "execution_count": null,
   "id": "811cb827e7cc1bde",
   "metadata": {
    "collapsed": false
   },
   "outputs": [],
   "source": [
    "train_names = ['transformer_r300', 'transformer_p300', 'resnet_p300', 'resnet_r300', 'lstm_r300', 'lstm_p300']\n",
    "p300_test_ds = CFDataset(p300_file_list, p300_label_list)\n",
    "p300_test_dataloader = DataLoader(p300_test_ds, batch_size=256)\n",
    "r300_test_ds = CFDataset(r300_file_list, r300_label_list)\n",
    "r300_test_dataloader = DataLoader(r300_test_ds, batch_size=256)\n",
    "\n",
    "for name in train_names:\n",
    "    if 'r300' in name:\n",
    "        test_dataloader = p300_test_dataloader\n",
    "        input_size = p300_test_ds.input_size()\n",
    "    else:\n",
    "        test_dataloader = r300_test_dataloader\n",
    "        input_size = r300_test_ds.input_size()\n",
    "    \n",
    "    if name.startswith('lstm'):\n",
    "        print('lstm model')\n",
    "        model = lstm.LSTM(input_size=input_size, hidden_size=100, num_layers=2, out_size=10)\n",
    "    elif name.startswith('resnet'):\n",
    "        print('resnet model')\n",
    "        model = resnet.ResNet(hidden_sizes=[100] * 6, num_blocks=[2] * 6, input_dim=input_size, in_channels=64, n_classes=10)\n",
    "    else:\n",
    "        print('transformer model')\n",
    "        model = transformer.TransformerModel(input_size=input_size, hidden_dim=128, num_classes=10, num_layers=3)\n",
    "    \n",
    "    model.to(device)\n",
    "\n",
    "    for i in range(5):\n",
    "        true_list, predicted_list = dl.test(model, model_path='checkpoints/{}_cv{}.pth'.format(name, i + 1),\n",
    "                                            test_dataloader=test_dataloader)\n",
    "        res = [item1 == item2 for item1, item2 in zip(true_list, predicted_list)]\n",
    "        acc = res.count(True) / len(true_list)\n",
    "        print('model: {}, cv: {}, acc:{}'.format(name, i + 1, acc))"
   ]
  }
 ],
 "metadata": {
  "kernelspec": {
   "display_name": "Python 3",
   "language": "python",
   "name": "python3"
  },
  "language_info": {
   "codemirror_mode": {
    "name": "ipython",
    "version": 3
   },
   "file_extension": ".py",
   "mimetype": "text/x-python",
   "name": "python",
   "nbconvert_exporter": "python",
   "pygments_lexer": "ipython3",
   "version": "3.10.13"
  }
 },
 "nbformat": 4,
 "nbformat_minor": 5
}
